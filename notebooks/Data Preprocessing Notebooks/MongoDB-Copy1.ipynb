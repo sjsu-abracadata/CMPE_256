{
 "cells": [
  {
   "cell_type": "code",
   "execution_count": 1,
   "id": "c65884f6",
   "metadata": {},
   "outputs": [],
   "source": [
    "import logging\n",
    "import requests\n",
    "from database_records import ProcessedNewsArticle,NewsArticles\n",
    "from collections import Counter\n",
    "from mongoengine import connect, disconnect\n",
    "import yaml"
   ]
  },
  {
   "cell_type": "code",
   "execution_count": 2,
   "id": "918e379f",
   "metadata": {},
   "outputs": [],
   "source": [
    "# https://towardsdatascience.com/text-classification-with-state-of-the-art-nlp-library-flair-b541d7add21f"
   ]
  },
  {
   "cell_type": "code",
   "execution_count": 11,
   "id": "2a81ffbd",
   "metadata": {},
   "outputs": [],
   "source": [
    "with open('config.yaml') as f:\n",
    "    config_dict = yaml.safe_load(f)\n",
    "\n",
    "\n",
    "database_connection_params = config_dict['newyork_times_database_details']\n"
   ]
  },
  {
   "cell_type": "code",
   "execution_count": 12,
   "id": "74538e24",
   "metadata": {},
   "outputs": [
    {
     "data": {
      "text/plain": [
       "MongoClient(host=['cluster0-shard-00-02.ngjps.mongodb.net:27017', 'cluster0-shard-00-01.ngjps.mongodb.net:27017', 'cluster0-shard-00-00.ngjps.mongodb.net:27017'], document_class=dict, tz_aware=False, connect=True, authsource='admin', replicaset='atlas-6fug5m-shard-0', ssl=True, read_preference=Primary())"
      ]
     },
     "execution_count": 12,
     "metadata": {},
     "output_type": "execute_result"
    }
   ],
   "source": [
    "# connect to database connection through mongoengine\n",
    "connect(db=database_connection_params['db_name'],\n",
    "        username=database_connection_params['user_name'],\n",
    "        password=database_connection_params['password'],\n",
    "        host=database_connection_params['connection_string'])\n",
    "\n",
    "    "
   ]
  },
  {
   "cell_type": "code",
   "execution_count": 14,
   "id": "50b4577a",
   "metadata": {},
   "outputs": [],
   "source": [
    "processed_ids = []\n",
    "\n",
    "for document in ProcessedNewsArticle.objects:\n",
    "    processed_ids.append(document.cleaned_article_url)"
   ]
  },
  {
   "cell_type": "code",
   "execution_count": 15,
   "id": "892e94ca",
   "metadata": {},
   "outputs": [],
   "source": [
    "all_ids = []"
   ]
  },
  {
   "cell_type": "code",
   "execution_count": 16,
   "id": "e92802ce",
   "metadata": {},
   "outputs": [],
   "source": [
    "for document in NewsArticles.objects:\n",
    "    all_ids.append(document.article_url)"
   ]
  },
  {
   "cell_type": "code",
   "execution_count": 19,
   "id": "b03c9483",
   "metadata": {},
   "outputs": [
    {
     "data": {
      "text/plain": [
       "115381"
      ]
     },
     "execution_count": 19,
     "metadata": {},
     "output_type": "execute_result"
    }
   ],
   "source": [
    "len(all_ids)"
   ]
  },
  {
   "cell_type": "code",
   "execution_count": 22,
   "id": "f9531c2d",
   "metadata": {},
   "outputs": [
    {
     "data": {
      "text/plain": [
       "115181"
      ]
     },
     "execution_count": 22,
     "metadata": {},
     "output_type": "execute_result"
    }
   ],
   "source": [
    "len(list(set(all_ids)))"
   ]
  },
  {
   "cell_type": "code",
   "execution_count": 23,
   "id": "871f177b",
   "metadata": {},
   "outputs": [
    {
     "data": {
      "text/plain": [
       "74260"
      ]
     },
     "execution_count": 23,
     "metadata": {},
     "output_type": "execute_result"
    }
   ],
   "source": [
    "len(list(set(processed_ids)))"
   ]
  },
  {
   "cell_type": "code",
   "execution_count": 20,
   "id": "59677f52",
   "metadata": {},
   "outputs": [
    {
     "data": {
      "text/plain": [
       "115247"
      ]
     },
     "execution_count": 20,
     "metadata": {},
     "output_type": "execute_result"
    }
   ],
   "source": [
    "len(processed_ids)"
   ]
  },
  {
   "cell_type": "code",
   "execution_count": null,
   "id": "d692b9d3",
   "metadata": {},
   "outputs": [],
   "source": [
    "l3 = [x for x in all_ids if x not in processed_ids]"
   ]
  },
  {
   "cell_type": "code",
   "execution_count": null,
   "id": "73219313",
   "metadata": {},
   "outputs": [],
   "source": [
    "len(l3)"
   ]
  },
  {
   "cell_type": "code",
   "execution_count": 32,
   "id": "9a0f95f0",
   "metadata": {},
   "outputs": [],
   "source": [
    "import pandas as pd"
   ]
  },
  {
   "cell_type": "code",
   "execution_count": 33,
   "id": "a031e750",
   "metadata": {},
   "outputs": [],
   "source": [
    "missing_links = pd.DataFrame(l3,columns=['article_links'])"
   ]
  },
  {
   "cell_type": "code",
   "execution_count": 34,
   "id": "5c514825",
   "metadata": {},
   "outputs": [],
   "source": [
    "missing_links.to_excel(\"Newyork-Missing.xlsx\",index=False)"
   ]
  },
  {
   "cell_type": "code",
   "execution_count": 35,
   "id": "957e005f",
   "metadata": {},
   "outputs": [],
   "source": [
    "disconnect()"
   ]
  },
  {
   "cell_type": "code",
   "execution_count": null,
   "id": "092caaaa",
   "metadata": {},
   "outputs": [],
   "source": []
  },
  {
   "cell_type": "code",
   "execution_count": null,
   "id": "fc7f7701",
   "metadata": {},
   "outputs": [],
   "source": []
  },
  {
   "cell_type": "code",
   "execution_count": null,
   "id": "7b8e1de1",
   "metadata": {},
   "outputs": [],
   "source": []
  }
 ],
 "metadata": {
  "kernelspec": {
   "display_name": "Python 3 (ipykernel)",
   "language": "python",
   "name": "python3"
  },
  "language_info": {
   "codemirror_mode": {
    "name": "ipython",
    "version": 3
   },
   "file_extension": ".py",
   "mimetype": "text/x-python",
   "name": "python",
   "nbconvert_exporter": "python",
   "pygments_lexer": "ipython3",
   "version": "3.9.0"
  }
 },
 "nbformat": 4,
 "nbformat_minor": 5
}
