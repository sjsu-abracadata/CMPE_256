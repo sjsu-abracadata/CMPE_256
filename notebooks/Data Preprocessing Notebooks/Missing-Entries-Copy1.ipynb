{
 "cells": [
  {
   "cell_type": "code",
   "execution_count": 1,
   "id": "e5270679",
   "metadata": {},
   "outputs": [],
   "source": [
    "import pandas as pd\n",
    "import data_preprocessing\n",
    "from database_records import NewsArticles,ProcessedNewsArticle\n",
    "from rule_based_sentimental_analysis import text_blob_sentiment, vader_sentiment\n",
    "import pymongo\n",
    "from mongoengine import connect, disconnect\n",
    "import yaml\n",
    "from utils import check_record_exist\n",
    "from tqdm import tqdm"
   ]
  },
  {
   "cell_type": "code",
   "execution_count": 2,
   "id": "1cf7a6b9",
   "metadata": {},
   "outputs": [],
   "source": [
    "missing_links = pd.read_excel(\"CNBC-Missing.xlsx\")"
   ]
  },
  {
   "cell_type": "code",
   "execution_count": 3,
   "id": "4450eafe",
   "metadata": {},
   "outputs": [
    {
     "data": {
      "text/plain": [
       "(8549, 1)"
      ]
     },
     "execution_count": 3,
     "metadata": {},
     "output_type": "execute_result"
    }
   ],
   "source": [
    "missing_links.shape"
   ]
  },
  {
   "cell_type": "code",
   "execution_count": 4,
   "id": "f5b496e8",
   "metadata": {},
   "outputs": [],
   "source": [
    "with open('config.yaml') as f:\n",
    "    config_dict = yaml.safe_load(f)\n",
    "    \n",
    "database_connection_params = config_dict['cnbc_database_details']"
   ]
  },
  {
   "cell_type": "code",
   "execution_count": 5,
   "id": "3d10d237",
   "metadata": {},
   "outputs": [
    {
     "data": {
      "text/plain": [
       "MongoClient(host=['cluster1-shard-00-01.ngjps.mongodb.net:27017', 'cluster1-shard-00-00.ngjps.mongodb.net:27017', 'cluster1-shard-00-02.ngjps.mongodb.net:27017'], document_class=dict, tz_aware=False, connect=True, authsource='admin', replicaset='atlas-aoug1h-shard-0', ssl=True, read_preference=Primary())"
      ]
     },
     "execution_count": 5,
     "metadata": {},
     "output_type": "execute_result"
    }
   ],
   "source": [
    "# connect to database connection through mongoengine\n",
    "connect(db=database_connection_params['db_name'],\n",
    "        username=database_connection_params['user_name'],\n",
    "        password=database_connection_params['password'],\n",
    "        host=database_connection_params['connection_string'])\n"
   ]
  },
  {
   "cell_type": "code",
   "execution_count": 6,
   "id": "8d832b55",
   "metadata": {},
   "outputs": [],
   "source": [
    "def process_database_records(document):\n",
    "    \"\"\"\n",
    "    function to process database records\n",
    "\n",
    "    :param database_connection_params: database connection strings\n",
    "    \"\"\"  \n",
    "    try:\n",
    "        \n",
    "        # get the article text\n",
    "        article_text = document['article_text']\n",
    "\n",
    "        # data pre-processing block\n",
    "        article_text = data_preprocessing.remove_html_tags(article_text)\n",
    "        article_text = data_preprocessing.lower_text(article_text)\n",
    "        article_text = data_preprocessing.remove_urls(article_text)\n",
    "        article_text = data_preprocessing.remove_accented_chars(article_text)\n",
    "        article_text = data_preprocessing.expand_contractions(article_text)\n",
    "        article_text = data_preprocessing.remove_special_characters(article_text)\n",
    "        article_text = data_preprocessing.remove_stopwords(article_text)\n",
    "        article_text = data_preprocessing.stemming_text(article_text)\n",
    "\n",
    "        # making document for processed news article\n",
    "        current_article = ProcessedNewsArticle()\n",
    "        \n",
    "        current_article.cleaned_source_name = document['source_name']\n",
    "        current_article.cleaned_article_title = document['article_title']\n",
    "        original_article_authors = \",\".join(document['article_authors'])\n",
    "        \n",
    "        current_article.cleaned_article_authors = data_preprocessing.find_persons(original_article_authors)\n",
    "        current_article.cleaned_article_published_date = document['article_published_date']\n",
    "        current_article.cleaned_images_link = document['images_link']\n",
    "        current_article.cleaned_video_link = document['video_link']\n",
    "        current_article.cleaned_article_summary = document['article_summary']\n",
    "        current_article.cleaned_article_url = document['article_url']\n",
    "\n",
    "        # named entity recognition\n",
    "        current_article.cleaned_article_text = article_text\n",
    "        ner_results = data_preprocessing.named_entity_recognition(document['article_text'])\n",
    "        current_article.cleaned_recognized_entity = ner_results\n",
    "\n",
    "        current_article.cleaned_article_keywords = document['article_keywords']\n",
    "\n",
    "        # rule based sentiment analysis\n",
    "        current_article.text_blob_sentiment = text_blob_sentiment(article_text)\n",
    "        current_article.vader_sentiment = vader_sentiment(article_text)\n",
    "        \n",
    "        current_article.save()\n",
    "\n",
    "    except Exception as e:\n",
    "        print(e)"
   ]
  },
  {
   "cell_type": "code",
   "execution_count": 7,
   "id": "e69d9bb4",
   "metadata": {},
   "outputs": [
    {
     "name": "stderr",
     "output_type": "stream",
     "text": [
      "100%|█████████████████████████████████████████████████████████████████████████████████████████████████████████████████████████████████████████████████████████| 8549/8549 [52:59<00:00,  2.69it/s]\n"
     ]
    }
   ],
   "source": [
    "for index, row in tqdm(missing_links.iterrows(), total=missing_links.shape[0]):\n",
    "    current_doc = NewsArticles.objects(article_url=row['article_links']).first()\n",
    "    process_database_records(current_doc)"
   ]
  },
  {
   "cell_type": "code",
   "execution_count": 36,
   "id": "0299569b",
   "metadata": {},
   "outputs": [],
   "source": [
    "disconnect()"
   ]
  },
  {
   "cell_type": "code",
   "execution_count": 6,
   "id": "56e2b59b",
   "metadata": {},
   "outputs": [
    {
     "data": {
      "text/html": [
       "<div>\n",
       "<style scoped>\n",
       "    .dataframe tbody tr th:only-of-type {\n",
       "        vertical-align: middle;\n",
       "    }\n",
       "\n",
       "    .dataframe tbody tr th {\n",
       "        vertical-align: top;\n",
       "    }\n",
       "\n",
       "    .dataframe thead th {\n",
       "        text-align: right;\n",
       "    }\n",
       "</style>\n",
       "<table border=\"1\" class=\"dataframe\">\n",
       "  <thead>\n",
       "    <tr style=\"text-align: right;\">\n",
       "      <th></th>\n",
       "      <th>article_links</th>\n",
       "    </tr>\n",
       "  </thead>\n",
       "  <tbody>\n",
       "    <tr>\n",
       "      <th>0</th>\n",
       "      <td>https://www.nytimes.com/2021/08/07/sports/olym...</td>\n",
       "    </tr>\n",
       "    <tr>\n",
       "      <th>1</th>\n",
       "      <td>https://www.nytimes.com/2021/08/07/world/asia/...</td>\n",
       "    </tr>\n",
       "    <tr>\n",
       "      <th>2</th>\n",
       "      <td>https://www.nytimes.com/2021/08/07/sports/olym...</td>\n",
       "    </tr>\n",
       "    <tr>\n",
       "      <th>3</th>\n",
       "      <td>https://www.nytimes.com/article/tokyo-olympics...</td>\n",
       "    </tr>\n",
       "    <tr>\n",
       "      <th>4</th>\n",
       "      <td>https://www.nytimes.com/2021/08/07/world/ameri...</td>\n",
       "    </tr>\n",
       "    <tr>\n",
       "      <th>...</th>\n",
       "      <td>...</td>\n",
       "    </tr>\n",
       "    <tr>\n",
       "      <th>40982</th>\n",
       "      <td>https://www.nytimes.com/2021/05/17/world/europ...</td>\n",
       "    </tr>\n",
       "    <tr>\n",
       "      <th>40983</th>\n",
       "      <td>https://www.nytimes.com/2021/05/17/us/politics...</td>\n",
       "    </tr>\n",
       "    <tr>\n",
       "      <th>40984</th>\n",
       "      <td>https://www.nytimes.com/2021/05/17/world/asia/...</td>\n",
       "    </tr>\n",
       "    <tr>\n",
       "      <th>40985</th>\n",
       "      <td>https://www.nytimes.com/video/world/middleeast...</td>\n",
       "    </tr>\n",
       "    <tr>\n",
       "      <th>40986</th>\n",
       "      <td>https://www.nytimes.com/2021/05/27/us/ronald-g...</td>\n",
       "    </tr>\n",
       "  </tbody>\n",
       "</table>\n",
       "<p>40987 rows × 1 columns</p>\n",
       "</div>"
      ],
      "text/plain": [
       "                                           article_links\n",
       "0      https://www.nytimes.com/2021/08/07/sports/olym...\n",
       "1      https://www.nytimes.com/2021/08/07/world/asia/...\n",
       "2      https://www.nytimes.com/2021/08/07/sports/olym...\n",
       "3      https://www.nytimes.com/article/tokyo-olympics...\n",
       "4      https://www.nytimes.com/2021/08/07/world/ameri...\n",
       "...                                                  ...\n",
       "40982  https://www.nytimes.com/2021/05/17/world/europ...\n",
       "40983  https://www.nytimes.com/2021/05/17/us/politics...\n",
       "40984  https://www.nytimes.com/2021/05/17/world/asia/...\n",
       "40985  https://www.nytimes.com/video/world/middleeast...\n",
       "40986  https://www.nytimes.com/2021/05/27/us/ronald-g...\n",
       "\n",
       "[40987 rows x 1 columns]"
      ]
     },
     "execution_count": 6,
     "metadata": {},
     "output_type": "execute_result"
    }
   ],
   "source": [
    "missing_links"
   ]
  },
  {
   "cell_type": "code",
   "execution_count": null,
   "id": "67e0fd2a",
   "metadata": {},
   "outputs": [],
   "source": []
  }
 ],
 "metadata": {
  "kernelspec": {
   "display_name": "Python 3 (ipykernel)",
   "language": "python",
   "name": "python3"
  },
  "language_info": {
   "codemirror_mode": {
    "name": "ipython",
    "version": 3
   },
   "file_extension": ".py",
   "mimetype": "text/x-python",
   "name": "python",
   "nbconvert_exporter": "python",
   "pygments_lexer": "ipython3",
   "version": "3.9.0"
  }
 },
 "nbformat": 4,
 "nbformat_minor": 5
}
