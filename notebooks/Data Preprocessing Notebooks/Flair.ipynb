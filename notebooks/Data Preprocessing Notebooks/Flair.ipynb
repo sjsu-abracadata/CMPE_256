{
 "cells": [
  {
   "cell_type": "code",
   "execution_count": 1,
   "id": "ab304e9b",
   "metadata": {},
   "outputs": [
    {
     "name": "stdout",
     "output_type": "stream",
     "text": [
      "Collecting flair\n",
      "  Using cached flair-0.10-py3-none-any.whl (322 kB)\n",
      "Collecting transformers>=4.0.0\n",
      "  Using cached transformers-4.12.5-py3-none-any.whl (3.1 MB)\n",
      "Collecting janome\n",
      "  Using cached Janome-0.4.1-py2.py3-none-any.whl (19.7 MB)\n",
      "Requirement already satisfied: scikit-learn>=0.21.3 in /opt/miniconda3/envs/256_backend/lib/python3.9/site-packages (from flair) (1.0.1)\n",
      "Collecting konoha<5.0.0,>=4.0.0\n",
      "  Using cached konoha-4.6.5-py3-none-any.whl (20 kB)\n",
      "Collecting torch!=1.8,>=1.5.0\n",
      "  Using cached torch-1.10.0-cp39-none-macosx_10_9_x86_64.whl (147.1 MB)\n",
      "Collecting mpld3==0.3\n",
      "  Using cached mpld3-0.3-py3-none-any.whl\n",
      "Requirement already satisfied: lxml in /opt/miniconda3/envs/256_backend/lib/python3.9/site-packages (from flair) (4.6.4)\n",
      "Collecting conllu>=4.0\n",
      "  Using cached conllu-4.4.1-py2.py3-none-any.whl (15 kB)\n",
      "Collecting sentencepiece==0.1.95\n",
      "  Using cached sentencepiece-0.1.95-cp39-cp39-macosx_10_6_x86_64.whl (1.1 MB)\n",
      "Collecting bpemb>=0.3.2\n",
      "  Using cached bpemb-0.3.3-py3-none-any.whl (19 kB)\n",
      "Collecting langdetect\n",
      "  Using cached langdetect-1.0.9-py3-none-any.whl\n",
      "Collecting tabulate\n",
      "  Using cached tabulate-0.8.9-py3-none-any.whl (25 kB)\n",
      "Collecting sqlitedict>=1.6.0\n",
      "  Using cached sqlitedict-1.7.0-py3-none-any.whl\n",
      "Collecting deprecated>=1.2.4\n",
      "  Using cached Deprecated-1.2.13-py2.py3-none-any.whl (9.6 kB)\n",
      "Collecting ftfy\n",
      "  Using cached ftfy-6.0.3-py3-none-any.whl\n",
      "Requirement already satisfied: tqdm>=4.26.0 in /opt/miniconda3/envs/256_backend/lib/python3.9/site-packages (from flair) (4.62.3)\n",
      "Collecting matplotlib>=2.2.3\n",
      "  Using cached matplotlib-3.5.0-cp39-cp39-macosx_10_9_x86_64.whl (7.3 MB)\n",
      "Collecting segtok>=1.5.7\n",
      "  Using cached segtok-1.5.10-py3-none-any.whl\n",
      "Collecting wikipedia-api\n",
      "  Using cached Wikipedia_API-0.5.4-py3-none-any.whl\n",
      "Collecting huggingface-hub\n",
      "  Using cached huggingface_hub-0.1.2-py3-none-any.whl (59 kB)\n",
      "Collecting more-itertools~=8.8.0\n",
      "  Using cached more_itertools-8.8.0-py3-none-any.whl (48 kB)\n",
      "Requirement already satisfied: python-dateutil>=2.6.1 in /opt/miniconda3/envs/256_backend/lib/python3.9/site-packages (from flair) (2.8.2)\n",
      "Collecting gensim>=3.4.0\n",
      "  Using cached gensim-4.1.2-cp39-cp39-macosx_10_9_x86_64.whl (24.0 MB)\n",
      "Requirement already satisfied: regex in /opt/miniconda3/envs/256_backend/lib/python3.9/site-packages (from flair) (2021.11.10)\n",
      "Collecting gdown==3.12.2\n",
      "  Using cached gdown-3.12.2-py3-none-any.whl\n",
      "Requirement already satisfied: requests[socks] in /opt/miniconda3/envs/256_backend/lib/python3.9/site-packages (from gdown==3.12.2->flair) (2.26.0)\n",
      "Requirement already satisfied: filelock in /opt/miniconda3/envs/256_backend/lib/python3.9/site-packages (from gdown==3.12.2->flair) (3.4.0)\n",
      "Requirement already satisfied: six in /opt/miniconda3/envs/256_backend/lib/python3.9/site-packages (from gdown==3.12.2->flair) (1.16.0)\n",
      "Requirement already satisfied: numpy in /opt/miniconda3/envs/256_backend/lib/python3.9/site-packages (from bpemb>=0.3.2->flair) (1.21.4)\n",
      "Collecting wrapt<2,>=1.10\n",
      "  Using cached wrapt-1.13.3-cp39-cp39-macosx_10_9_x86_64.whl (33 kB)\n",
      "Requirement already satisfied: smart-open>=1.8.1 in /opt/miniconda3/envs/256_backend/lib/python3.9/site-packages (from gensim>=3.4.0->flair) (5.2.1)\n",
      "Requirement already satisfied: scipy>=0.18.1 in /opt/miniconda3/envs/256_backend/lib/python3.9/site-packages (from gensim>=3.4.0->flair) (1.7.3)\n",
      "Collecting importlib-metadata<4.0.0,>=3.7.0\n",
      "  Using cached importlib_metadata-3.10.1-py3-none-any.whl (14 kB)\n",
      "Collecting overrides<4.0.0,>=3.0.0\n",
      "  Using cached overrides-3.1.0-py3-none-any.whl\n",
      "Collecting zipp>=0.5\n",
      "  Using cached zipp-3.6.0-py3-none-any.whl (5.3 kB)\n",
      "Collecting setuptools-scm>=4\n",
      "  Using cached setuptools_scm-6.3.2-py3-none-any.whl (33 kB)\n",
      "Requirement already satisfied: packaging>=20.0 in /opt/miniconda3/envs/256_backend/lib/python3.9/site-packages (from matplotlib>=2.2.3->flair) (21.3)\n",
      "Collecting fonttools>=4.22.0\n",
      "  Using cached fonttools-4.28.2-py3-none-any.whl (880 kB)\n",
      "Collecting cycler>=0.10\n",
      "  Using cached cycler-0.11.0-py3-none-any.whl (6.4 kB)\n",
      "Requirement already satisfied: pillow>=6.2.0 in /opt/miniconda3/envs/256_backend/lib/python3.9/site-packages (from matplotlib>=2.2.3->flair) (8.4.0)\n",
      "Requirement already satisfied: pyparsing>=2.2.1 in /opt/miniconda3/envs/256_backend/lib/python3.9/site-packages (from matplotlib>=2.2.3->flair) (3.0.6)\n",
      "Collecting kiwisolver>=1.0.1\n",
      "  Using cached kiwisolver-1.3.2-cp39-cp39-macosx_10_9_x86_64.whl (61 kB)\n",
      "Requirement already satisfied: charset-normalizer~=2.0.0 in /opt/miniconda3/envs/256_backend/lib/python3.9/site-packages (from requests[socks]->gdown==3.12.2->flair) (2.0.8)\n",
      "Requirement already satisfied: idna<4,>=2.5 in /opt/miniconda3/envs/256_backend/lib/python3.9/site-packages (from requests[socks]->gdown==3.12.2->flair) (3.3)\n",
      "Requirement already satisfied: urllib3<1.27,>=1.21.1 in /opt/miniconda3/envs/256_backend/lib/python3.9/site-packages (from requests[socks]->gdown==3.12.2->flair) (1.26.7)\n",
      "Requirement already satisfied: certifi>=2017.4.17 in /opt/miniconda3/envs/256_backend/lib/python3.9/site-packages (from requests[socks]->gdown==3.12.2->flair) (2021.10.8)\n",
      "Requirement already satisfied: joblib>=0.11 in /opt/miniconda3/envs/256_backend/lib/python3.9/site-packages (from scikit-learn>=0.21.3->flair) (1.1.0)\n",
      "Requirement already satisfied: threadpoolctl>=2.0.0 in /opt/miniconda3/envs/256_backend/lib/python3.9/site-packages (from scikit-learn>=0.21.3->flair) (3.0.0)\n",
      "Collecting tomli>=1.0.0\n",
      "  Using cached tomli-1.2.2-py3-none-any.whl (12 kB)\n",
      "Requirement already satisfied: setuptools in /opt/miniconda3/envs/256_backend/lib/python3.9/site-packages (from setuptools-scm>=4->matplotlib>=2.2.3->flair) (58.0.4)\n",
      "Requirement already satisfied: typing-extensions in /opt/miniconda3/envs/256_backend/lib/python3.9/site-packages (from torch!=1.8,>=1.5.0->flair) (4.0.0)\n",
      "Requirement already satisfied: pyyaml>=5.1 in /opt/miniconda3/envs/256_backend/lib/python3.9/site-packages (from transformers>=4.0.0->flair) (6.0)\n",
      "Collecting sacremoses\n",
      "  Using cached sacremoses-0.0.46-py3-none-any.whl (895 kB)\n",
      "Collecting tokenizers<0.11,>=0.10.1\n",
      "  Using cached tokenizers-0.10.3-cp39-cp39-macosx_10_11_x86_64.whl (2.2 MB)\n",
      "Requirement already satisfied: wcwidth in /opt/miniconda3/envs/256_backend/lib/python3.9/site-packages (from ftfy->flair) (0.2.5)\n",
      "Collecting PySocks!=1.5.7,>=1.5.6\n",
      "  Using cached PySocks-1.7.1-py3-none-any.whl (16 kB)\n",
      "Requirement already satisfied: click in /opt/miniconda3/envs/256_backend/lib/python3.9/site-packages (from sacremoses->transformers>=4.0.0->flair) (8.0.3)\n",
      "Installing collected packages: zipp, tomli, PySocks, wrapt, tokenizers, setuptools-scm, sentencepiece, sacremoses, overrides, kiwisolver, importlib-metadata, huggingface-hub, gensim, fonttools, cycler, wikipedia-api, transformers, torch, tabulate, sqlitedict, segtok, mpld3, more-itertools, matplotlib, langdetect, konoha, janome, gdown, ftfy, deprecated, conllu, bpemb, flair\n",
      "Successfully installed PySocks-1.7.1 bpemb-0.3.3 conllu-4.4.1 cycler-0.11.0 deprecated-1.2.13 flair-0.10 fonttools-4.28.2 ftfy-6.0.3 gdown-3.12.2 gensim-4.1.2 huggingface-hub-0.1.2 importlib-metadata-3.10.1 janome-0.4.1 kiwisolver-1.3.2 konoha-4.6.5 langdetect-1.0.9 matplotlib-3.5.0 more-itertools-8.8.0 mpld3-0.3 overrides-3.1.0 sacremoses-0.0.46 segtok-1.5.10 sentencepiece-0.1.95 setuptools-scm-6.3.2 sqlitedict-1.7.0 tabulate-0.8.9 tokenizers-0.10.3 tomli-1.2.2 torch-1.10.0 transformers-4.12.5 wikipedia-api-0.5.4 wrapt-1.13.3 zipp-3.6.0\n"
     ]
    }
   ],
   "source": [
    "! pip install flair"
   ]
  },
  {
   "cell_type": "code",
   "execution_count": 1,
   "id": "ecc08075",
   "metadata": {},
   "outputs": [
    {
     "name": "stdout",
     "output_type": "stream",
     "text": [
      "2021-11-29 21:59:10,532 loading file /Users/aryanjadon/.flair/models/sentiment-en-mix-distillbert_4.pt\n"
     ]
    },
    {
     "data": {
      "application/vnd.jupyter.widget-view+json": {
       "model_id": "3594553080cd4019ab7379c68de82f9e",
       "version_major": 2,
       "version_minor": 0
      },
      "text/plain": [
       "Downloading:   0%|          | 0.00/28.0 [00:00<?, ?B/s]"
      ]
     },
     "metadata": {},
     "output_type": "display_data"
    },
    {
     "data": {
      "application/vnd.jupyter.widget-view+json": {
       "model_id": "69c5f0cf58c8492e92f64190c24063ce",
       "version_major": 2,
       "version_minor": 0
      },
      "text/plain": [
       "Downloading:   0%|          | 0.00/226k [00:00<?, ?B/s]"
      ]
     },
     "metadata": {},
     "output_type": "display_data"
    },
    {
     "data": {
      "application/vnd.jupyter.widget-view+json": {
       "model_id": "591773cad3394370b974907efd90aa8f",
       "version_major": 2,
       "version_minor": 0
      },
      "text/plain": [
       "Downloading:   0%|          | 0.00/455k [00:00<?, ?B/s]"
      ]
     },
     "metadata": {},
     "output_type": "display_data"
    },
    {
     "data": {
      "application/vnd.jupyter.widget-view+json": {
       "model_id": "2b86f8aa060a446fab08fb50f27b1c65",
       "version_major": 2,
       "version_minor": 0
      },
      "text/plain": [
       "Downloading:   0%|          | 0.00/483 [00:00<?, ?B/s]"
      ]
     },
     "metadata": {},
     "output_type": "display_data"
    },
    {
     "name": "stdout",
     "output_type": "stream",
     "text": [
      "Sentence above is:  [POSITIVE (0.9997)]\n"
     ]
    }
   ],
   "source": [
    "from flair.models import TextClassifier\n",
    "from flair.data import Sentence\n",
    "\n",
    "classifier = TextClassifier.load('en-sentiment')\n",
    "sentence = Sentence('Flair is pretty neat!')\n",
    "\n",
    "classifier.predict(sentence)\n",
    "# print sentence with predicted labels\n",
    "\n",
    "print('Sentence above is: ', sentence.labels)"
   ]
  },
  {
   "cell_type": "code",
   "execution_count": 2,
   "id": "ff72c716",
   "metadata": {},
   "outputs": [
    {
     "data": {
      "text/plain": [
       "Sentence: \"Flair is pretty neat !\"   [− Tokens: 5  − Sentence-Labels: {'label': [POSITIVE (0.9997)]}]"
      ]
     },
     "execution_count": 2,
     "metadata": {},
     "output_type": "execute_result"
    }
   ],
   "source": [
    "sentence"
   ]
  },
  {
   "cell_type": "code",
   "execution_count": null,
   "id": "e3b9e8f3",
   "metadata": {},
   "outputs": [],
   "source": []
  }
 ],
 "metadata": {
  "kernelspec": {
   "display_name": "Python 3 (ipykernel)",
   "language": "python",
   "name": "python3"
  },
  "language_info": {
   "codemirror_mode": {
    "name": "ipython",
    "version": 3
   },
   "file_extension": ".py",
   "mimetype": "text/x-python",
   "name": "python",
   "nbconvert_exporter": "python",
   "pygments_lexer": "ipython3",
   "version": "3.9.0"
  }
 },
 "nbformat": 4,
 "nbformat_minor": 5
}
