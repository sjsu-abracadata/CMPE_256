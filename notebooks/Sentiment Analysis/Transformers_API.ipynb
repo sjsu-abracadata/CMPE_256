{
  "nbformat": 4,
  "nbformat_minor": 0,
  "metadata": {
    "colab": {
      "name": "Transformers-API.ipynb",
      "provenance": [],
      "collapsed_sections": []
    },
    "kernelspec": {
      "name": "python3",
      "display_name": "Python 3"
    },
    "language_info": {
      "name": "python"
    },
    "accelerator": "GPU"
  },
  "cells": [
    {
      "cell_type": "code",
      "metadata": {
        "colab": {
          "base_uri": "https://localhost:8080/"
        },
        "id": "YKX-KbMRmBzj",
        "outputId": "e4ae7c05-f7a6-48e5-b7d0-4b5ed4d4aa83"
      },
      "source": [
        "! pip install flask-ngrok\n",
        "! pip install Flask-RESTful\n",
        "! pip install torch==1.5.0\n",
        "! pip install transformers==2.8.0"
      ],
      "execution_count": 1,
      "outputs": [
        {
          "output_type": "stream",
          "name": "stdout",
          "text": [
            "Requirement already satisfied: flask-ngrok in /usr/local/lib/python3.7/dist-packages (0.0.25)\n",
            "Requirement already satisfied: Flask>=0.8 in /usr/local/lib/python3.7/dist-packages (from flask-ngrok) (1.1.4)\n",
            "Requirement already satisfied: requests in /usr/local/lib/python3.7/dist-packages (from flask-ngrok) (2.23.0)\n",
            "Requirement already satisfied: itsdangerous<2.0,>=0.24 in /usr/local/lib/python3.7/dist-packages (from Flask>=0.8->flask-ngrok) (1.1.0)\n",
            "Requirement already satisfied: Jinja2<3.0,>=2.10.1 in /usr/local/lib/python3.7/dist-packages (from Flask>=0.8->flask-ngrok) (2.11.3)\n",
            "Requirement already satisfied: Werkzeug<2.0,>=0.15 in /usr/local/lib/python3.7/dist-packages (from Flask>=0.8->flask-ngrok) (1.0.1)\n",
            "Requirement already satisfied: click<8.0,>=5.1 in /usr/local/lib/python3.7/dist-packages (from Flask>=0.8->flask-ngrok) (7.1.2)\n",
            "Requirement already satisfied: MarkupSafe>=0.23 in /usr/local/lib/python3.7/dist-packages (from Jinja2<3.0,>=2.10.1->Flask>=0.8->flask-ngrok) (2.0.1)\n",
            "Requirement already satisfied: chardet<4,>=3.0.2 in /usr/local/lib/python3.7/dist-packages (from requests->flask-ngrok) (3.0.4)\n",
            "Requirement already satisfied: certifi>=2017.4.17 in /usr/local/lib/python3.7/dist-packages (from requests->flask-ngrok) (2021.10.8)\n",
            "Requirement already satisfied: urllib3!=1.25.0,!=1.25.1,<1.26,>=1.21.1 in /usr/local/lib/python3.7/dist-packages (from requests->flask-ngrok) (1.25.11)\n",
            "Requirement already satisfied: idna<3,>=2.5 in /usr/local/lib/python3.7/dist-packages (from requests->flask-ngrok) (2.10)\n",
            "Requirement already satisfied: Flask-RESTful in /usr/local/lib/python3.7/dist-packages (0.3.9)\n",
            "Requirement already satisfied: six>=1.3.0 in /usr/local/lib/python3.7/dist-packages (from Flask-RESTful) (1.15.0)\n",
            "Requirement already satisfied: aniso8601>=0.82 in /usr/local/lib/python3.7/dist-packages (from Flask-RESTful) (9.0.1)\n",
            "Requirement already satisfied: Flask>=0.8 in /usr/local/lib/python3.7/dist-packages (from Flask-RESTful) (1.1.4)\n",
            "Requirement already satisfied: pytz in /usr/local/lib/python3.7/dist-packages (from Flask-RESTful) (2018.9)\n",
            "Requirement already satisfied: Werkzeug<2.0,>=0.15 in /usr/local/lib/python3.7/dist-packages (from Flask>=0.8->Flask-RESTful) (1.0.1)\n",
            "Requirement already satisfied: itsdangerous<2.0,>=0.24 in /usr/local/lib/python3.7/dist-packages (from Flask>=0.8->Flask-RESTful) (1.1.0)\n",
            "Requirement already satisfied: Jinja2<3.0,>=2.10.1 in /usr/local/lib/python3.7/dist-packages (from Flask>=0.8->Flask-RESTful) (2.11.3)\n",
            "Requirement already satisfied: click<8.0,>=5.1 in /usr/local/lib/python3.7/dist-packages (from Flask>=0.8->Flask-RESTful) (7.1.2)\n",
            "Requirement already satisfied: MarkupSafe>=0.23 in /usr/local/lib/python3.7/dist-packages (from Jinja2<3.0,>=2.10.1->Flask>=0.8->Flask-RESTful) (2.0.1)\n",
            "Requirement already satisfied: torch==1.5.0 in /usr/local/lib/python3.7/dist-packages (1.5.0)\n",
            "Requirement already satisfied: numpy in /usr/local/lib/python3.7/dist-packages (from torch==1.5.0) (1.19.5)\n",
            "Requirement already satisfied: future in /usr/local/lib/python3.7/dist-packages (from torch==1.5.0) (0.16.0)\n",
            "Requirement already satisfied: transformers==2.8.0 in /usr/local/lib/python3.7/dist-packages (2.8.0)\n",
            "Requirement already satisfied: sacremoses in /usr/local/lib/python3.7/dist-packages (from transformers==2.8.0) (0.0.46)\n",
            "Requirement already satisfied: numpy in /usr/local/lib/python3.7/dist-packages (from transformers==2.8.0) (1.19.5)\n",
            "Requirement already satisfied: regex!=2019.12.17 in /usr/local/lib/python3.7/dist-packages (from transformers==2.8.0) (2019.12.20)\n",
            "Requirement already satisfied: filelock in /usr/local/lib/python3.7/dist-packages (from transformers==2.8.0) (3.4.0)\n",
            "Requirement already satisfied: sentencepiece in /usr/local/lib/python3.7/dist-packages (from transformers==2.8.0) (0.1.96)\n",
            "Requirement already satisfied: requests in /usr/local/lib/python3.7/dist-packages (from transformers==2.8.0) (2.23.0)\n",
            "Requirement already satisfied: tokenizers==0.5.2 in /usr/local/lib/python3.7/dist-packages (from transformers==2.8.0) (0.5.2)\n",
            "Requirement already satisfied: boto3 in /usr/local/lib/python3.7/dist-packages (from transformers==2.8.0) (1.20.15)\n",
            "Requirement already satisfied: tqdm>=4.27 in /usr/local/lib/python3.7/dist-packages (from transformers==2.8.0) (4.62.3)\n",
            "Requirement already satisfied: jmespath<1.0.0,>=0.7.1 in /usr/local/lib/python3.7/dist-packages (from boto3->transformers==2.8.0) (0.10.0)\n",
            "Requirement already satisfied: s3transfer<0.6.0,>=0.5.0 in /usr/local/lib/python3.7/dist-packages (from boto3->transformers==2.8.0) (0.5.0)\n",
            "Requirement already satisfied: botocore<1.24.0,>=1.23.15 in /usr/local/lib/python3.7/dist-packages (from boto3->transformers==2.8.0) (1.23.15)\n",
            "Requirement already satisfied: urllib3<1.27,>=1.25.4 in /usr/local/lib/python3.7/dist-packages (from botocore<1.24.0,>=1.23.15->boto3->transformers==2.8.0) (1.25.11)\n",
            "Requirement already satisfied: python-dateutil<3.0.0,>=2.1 in /usr/local/lib/python3.7/dist-packages (from botocore<1.24.0,>=1.23.15->boto3->transformers==2.8.0) (2.8.2)\n",
            "Requirement already satisfied: six>=1.5 in /usr/local/lib/python3.7/dist-packages (from python-dateutil<3.0.0,>=2.1->botocore<1.24.0,>=1.23.15->boto3->transformers==2.8.0) (1.15.0)\n",
            "Requirement already satisfied: certifi>=2017.4.17 in /usr/local/lib/python3.7/dist-packages (from requests->transformers==2.8.0) (2021.10.8)\n",
            "Requirement already satisfied: idna<3,>=2.5 in /usr/local/lib/python3.7/dist-packages (from requests->transformers==2.8.0) (2.10)\n",
            "Requirement already satisfied: chardet<4,>=3.0.2 in /usr/local/lib/python3.7/dist-packages (from requests->transformers==2.8.0) (3.0.4)\n",
            "Requirement already satisfied: click in /usr/local/lib/python3.7/dist-packages (from sacremoses->transformers==2.8.0) (7.1.2)\n",
            "Requirement already satisfied: joblib in /usr/local/lib/python3.7/dist-packages (from sacremoses->transformers==2.8.0) (1.1.0)\n"
          ]
        }
      ]
    },
    {
      "cell_type": "code",
      "metadata": {
        "colab": {
          "base_uri": "https://localhost:8080/"
        },
        "id": "ASyiOGy_ozqS",
        "outputId": "88b79003-cadb-4b0f-c637-d251b7f6fd9b"
      },
      "source": [
        "! wget \"https://bitbucket.org/aryanjadon/transformers_api/src/master/transformers_api/config.json\""
      ],
      "execution_count": 2,
      "outputs": [
        {
          "output_type": "stream",
          "name": "stdout",
          "text": [
            "--2021-11-29 22:31:06--  https://bitbucket.org/aryanjadon/transformers_api/src/master/transformers_api/config.json\n",
            "Resolving bitbucket.org (bitbucket.org)... 104.192.141.1, 2406:da00:ff00::22c0:3470, 2406:da00:ff00::6b17:d1f5, ...\n",
            "Connecting to bitbucket.org (bitbucket.org)|104.192.141.1|:443... connected.\n",
            "HTTP request sent, awaiting response... 200 OK\n",
            "Length: 50268 (49K) [text/html]\n",
            "Saving to: ‘config.json.1’\n",
            "\n",
            "config.json.1       100%[===================>]  49.09K  --.-KB/s    in 0.02s   \n",
            "\n",
            "2021-11-29 22:31:07 (2.35 MB/s) - ‘config.json.1’ saved [50268/50268]\n",
            "\n"
          ]
        }
      ]
    },
    {
      "cell_type": "code",
      "metadata": {
        "colab": {
          "base_uri": "https://localhost:8080/"
        },
        "id": "2ZmiTo75qO5X",
        "outputId": "47c927fd-a3e6-4301-a934-6312e236ac13"
      },
      "source": [
        "! pip install gdown"
      ],
      "execution_count": 3,
      "outputs": [
        {
          "output_type": "stream",
          "name": "stdout",
          "text": [
            "Requirement already satisfied: gdown in /usr/local/lib/python3.7/dist-packages (3.6.4)\n",
            "Requirement already satisfied: tqdm in /usr/local/lib/python3.7/dist-packages (from gdown) (4.62.3)\n",
            "Requirement already satisfied: six in /usr/local/lib/python3.7/dist-packages (from gdown) (1.15.0)\n",
            "Requirement already satisfied: requests in /usr/local/lib/python3.7/dist-packages (from gdown) (2.23.0)\n",
            "Requirement already satisfied: certifi>=2017.4.17 in /usr/local/lib/python3.7/dist-packages (from requests->gdown) (2021.10.8)\n",
            "Requirement already satisfied: chardet<4,>=3.0.2 in /usr/local/lib/python3.7/dist-packages (from requests->gdown) (3.0.4)\n",
            "Requirement already satisfied: idna<3,>=2.5 in /usr/local/lib/python3.7/dist-packages (from requests->gdown) (2.10)\n",
            "Requirement already satisfied: urllib3!=1.25.0,!=1.25.1,<1.26,>=1.21.1 in /usr/local/lib/python3.7/dist-packages (from requests->gdown) (1.25.11)\n"
          ]
        }
      ]
    },
    {
      "cell_type": "code",
      "metadata": {
        "colab": {
          "base_uri": "https://localhost:8080/",
          "height": 105
        },
        "id": "w1zv22erpmOr",
        "outputId": "7ad64b15-eb61-4e80-fd23-ce5028d19f44"
      },
      "source": [
        "import gdown\n",
        "from pathlib import Path\n",
        "\n",
        "Path(\"assets\").mkdir(exist_ok=True)\n",
        "\n",
        "gdown.download(\n",
        "    \"https://drive.google.com/uc?id=1V8itWtowCYnb2Bc9KlK9SxGff9WwmogA\",\n",
        "    \"assets/model_state_dict.bin\", quiet=False\n",
        ")"
      ],
      "execution_count": 4,
      "outputs": [
        {
          "output_type": "stream",
          "name": "stderr",
          "text": [
            "Downloading...\n",
            "From: https://drive.google.com/uc?id=1V8itWtowCYnb2Bc9KlK9SxGff9WwmogA\n",
            "To: /content/assets/model_state_dict.bin\n",
            "100%|██████████| 433M/433M [00:02<00:00, 180MB/s]\n"
          ]
        },
        {
          "output_type": "execute_result",
          "data": {
            "application/vnd.google.colaboratory.intrinsic+json": {
              "type": "string"
            },
            "text/plain": [
              "'assets/model_state_dict.bin'"
            ]
          },
          "metadata": {},
          "execution_count": 4
        }
      ]
    },
    {
      "cell_type": "code",
      "metadata": {
        "id": "Eg_r4ipfpIxE"
      },
      "source": [
        "import json\n",
        "\n",
        "from torch import nn\n",
        "from transformers import BertModel\n",
        "\n",
        "config = {\n",
        "    \"BERT_MODEL\": \"bert-base-cased\",\n",
        "    \"PRE_TRAINED_MODEL\": \"assets/model_state_dict.bin\",\n",
        "    \"CLASS_NAMES\": [\n",
        "        \"negative\",\n",
        "        \"neutral\",\n",
        "        \"positive\"\n",
        "    ],\n",
        "    \"MAX_SEQUENCE_LEN\": 150\n",
        "}\n",
        "\n",
        "\n",
        "class SentimentClassifier(nn.Module):\n",
        "    def __init__(self, n_classes):\n",
        "        super(SentimentClassifier, self).__init__()\n",
        "        self.bert = BertModel.from_pretrained(config[\"BERT_MODEL\"])\n",
        "        self.drop = nn.Dropout(p=0.3)\n",
        "        self.out = nn.Linear(self.bert.config.hidden_size, n_classes)\n",
        "\n",
        "    def forward(self, input_ids, attention_mask):\n",
        "        _, pooled_output = self.bert(input_ids=input_ids, attention_mask=attention_mask)\n",
        "        output = self.drop(pooled_output)\n",
        "        return self.out(output)\n"
      ],
      "execution_count": 12,
      "outputs": []
    },
    {
      "cell_type": "code",
      "metadata": {
        "id": "qYQXndcsodkf"
      },
      "source": [
        "import json\n",
        "\n",
        "import torch\n",
        "import torch.nn.functional as F\n",
        "from transformers import BertTokenizer\n",
        "\n",
        "\n",
        "\n",
        "class Model:\n",
        "    def __init__(self):\n",
        "\n",
        "        self.device = torch.device(\"cuda:0\" if torch.cuda.is_available() else \"cpu\")\n",
        "\n",
        "        self.tokenizer = BertTokenizer.from_pretrained(config[\"BERT_MODEL\"])\n",
        "\n",
        "        classifier = SentimentClassifier(len(config[\"CLASS_NAMES\"]))\n",
        "        classifier.load_state_dict(\n",
        "            torch.load(config[\"PRE_TRAINED_MODEL\"], map_location=self.device)\n",
        "        )\n",
        "        classifier = classifier.eval()\n",
        "        self.classifier = classifier.to(self.device)\n",
        "\n",
        "    def predict(self, text):\n",
        "        encoded_text = self.tokenizer.encode_plus(\n",
        "            text,\n",
        "            max_length=config[\"MAX_SEQUENCE_LEN\"],\n",
        "            add_special_tokens=True,\n",
        "            return_token_type_ids=False,\n",
        "            pad_to_max_length=True,\n",
        "            return_attention_mask=True,\n",
        "            return_tensors=\"pt\",\n",
        "        )\n",
        "        input_ids = encoded_text[\"input_ids\"].to(self.device)\n",
        "        attention_mask = encoded_text[\"attention_mask\"].to(self.device)\n",
        "\n",
        "        with torch.no_grad():\n",
        "            probabilities = F.softmax(self.classifier(input_ids, attention_mask), dim=1)\n",
        "        confidence, predicted_class = torch.max(probabilities, dim=1)\n",
        "        predicted_class = predicted_class.cpu().item()\n",
        "        probabilities = probabilities.flatten().cpu().numpy().tolist()\n",
        "        return (\n",
        "            config[\"CLASS_NAMES\"][predicted_class],\n",
        "            confidence,\n",
        "            dict(zip(config[\"CLASS_NAMES\"], probabilities)),\n",
        "        )\n",
        "\n",
        "\n",
        "model = Model()\n",
        "\n",
        "\n",
        "def get_model():\n",
        "    return model\n"
      ],
      "execution_count": 13,
      "outputs": []
    },
    {
      "cell_type": "code",
      "metadata": {
        "colab": {
          "base_uri": "https://localhost:8080/"
        },
        "id": "e1805VgnmHZC",
        "outputId": "0ec17f41-f882-4ca3-d1a9-7cd23f24e368"
      },
      "source": [
        "from flask import Flask, request, jsonify\n",
        "import tempfile\n",
        "import os\n",
        "import subprocess\n",
        "from werkzeug.utils import secure_filename\n",
        "import json\n",
        "from flask_ngrok import run_with_ngrok\n",
        "\n",
        "\n",
        "app = Flask(__name__)\n",
        "app.config['UPLOAD_FOLDER'] = 'server_files/'\n",
        "\n",
        "run_with_ngrok(app)\n",
        "\n",
        "@app.route('/api/analyze', methods=['GET', 'POST'])\n",
        "def get_score():\n",
        "    if request.method == 'POST':\n",
        "      given_text = request.form.get('analyze_text')\n",
        "\n",
        "      model = Model()\n",
        "      sentiment, confidence, probabilities = model.predict(given_text)\n",
        "      print(sentiment,confidence,probabilities)\n",
        "\n",
        "      prediction = {\n",
        "                    \"sentiment\": sentiment,\n",
        "                    \"confidence\": str(confidence),\n",
        "                    \"probabilities\": probabilities\n",
        "                   }\n",
        "      \n",
        "      return jsonify(prediction)\n",
        "\n",
        "app.run()\n"
      ],
      "execution_count": null,
      "outputs": [
        {
          "output_type": "stream",
          "name": "stdout",
          "text": [
            " * Serving Flask app \"__main__\" (lazy loading)\n",
            " * Environment: production\n",
            "\u001b[31m   WARNING: This is a development server. Do not use it in a production deployment.\u001b[0m\n",
            "\u001b[2m   Use a production WSGI server instead.\u001b[0m\n",
            " * Debug mode: off\n"
          ]
        },
        {
          "output_type": "stream",
          "name": "stderr",
          "text": [
            " * Running on http://127.0.0.1:5000/ (Press CTRL+C to quit)\n"
          ]
        },
        {
          "output_type": "stream",
          "name": "stdout",
          "text": [
            " * Running on http://6f70-34-68-164-131.ngrok.io\n",
            " * Traffic stats available on http://127.0.0.1:4040\n"
          ]
        },
        {
          "output_type": "stream",
          "name": "stderr",
          "text": [
            "127.0.0.1 - - [29/Nov/2021 22:42:02] \"\u001b[37mPOST /api/analyze HTTP/1.1\u001b[0m\" 200 -\n"
          ]
        },
        {
          "output_type": "stream",
          "name": "stdout",
          "text": [
            "negative tensor([0.8686], device='cuda:0') {'negative': 0.8685904145240784, 'neutral': 0.13022355735301971, 'positive': 0.0011859433725476265}\n"
          ]
        },
        {
          "output_type": "stream",
          "name": "stderr",
          "text": [
            "127.0.0.1 - - [29/Nov/2021 22:42:08] \"\u001b[37mPOST /api/analyze HTTP/1.1\u001b[0m\" 200 -\n"
          ]
        },
        {
          "output_type": "stream",
          "name": "stdout",
          "text": [
            "positive tensor([0.9999], device='cuda:0') {'negative': 3.584616933949292e-05, 'neutral': 4.343165346654132e-05, 'positive': 0.9999207258224487}\n"
          ]
        },
        {
          "output_type": "stream",
          "name": "stderr",
          "text": [
            "127.0.0.1 - - [29/Nov/2021 22:42:21] \"\u001b[37mPOST /api/analyze HTTP/1.1\u001b[0m\" 200 -\n"
          ]
        },
        {
          "output_type": "stream",
          "name": "stdout",
          "text": [
            "positive tensor([0.9999], device='cuda:0') {'negative': 3.0012617571628653e-05, 'neutral': 3.7551137211266905e-05, 'positive': 0.9999324083328247}\n"
          ]
        },
        {
          "output_type": "stream",
          "name": "stderr",
          "text": [
            "127.0.0.1 - - [29/Nov/2021 22:42:36] \"\u001b[37mPOST /api/analyze HTTP/1.1\u001b[0m\" 200 -\n"
          ]
        },
        {
          "output_type": "stream",
          "name": "stdout",
          "text": [
            "positive tensor([0.9999], device='cuda:0') {'negative': 6.682259845547378e-05, 'neutral': 3.905816993210465e-05, 'positive': 0.9998940229415894}\n"
          ]
        },
        {
          "output_type": "stream",
          "name": "stderr",
          "text": [
            "127.0.0.1 - - [29/Nov/2021 22:42:52] \"\u001b[37mPOST /api/analyze HTTP/1.1\u001b[0m\" 200 -\n"
          ]
        },
        {
          "output_type": "stream",
          "name": "stdout",
          "text": [
            "positive tensor([0.9996], device='cuda:0') {'negative': 8.005231211427599e-05, 'neutral': 0.00027683988446369767, 'positive': 0.999643087387085}\n"
          ]
        }
      ]
    },
    {
      "cell_type": "code",
      "metadata": {
        "id": "P2YDsuKKshWR"
      },
      "source": [
        ""
      ],
      "execution_count": 10,
      "outputs": []
    }
  ]
}