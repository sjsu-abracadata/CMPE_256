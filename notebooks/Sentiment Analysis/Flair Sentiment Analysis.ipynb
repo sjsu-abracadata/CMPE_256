{
 "cells": [
  {
   "cell_type": "code",
   "execution_count": 3,
   "id": "ecc08075",
   "metadata": {},
   "outputs": [],
   "source": [
    "from flair.models import TextClassifier\n",
    "from flair.data import Sentence\n",
    "\n",
    "def predict_sentiment(given_text):    \n",
    "    classifier = TextClassifier.load('en-sentiment')\n",
    "    sentence = Sentence(given_text)\n",
    "\n",
    "    classifier.predict(sentence)\n",
    "\n",
    "    return sentence.labels"
   ]
  },
  {
   "cell_type": "code",
   "execution_count": 4,
   "id": "ff72c716",
   "metadata": {},
   "outputs": [
    {
     "name": "stdout",
     "output_type": "stream",
     "text": [
      "2021-11-30 16:16:44,802 loading file /Users/aryanjadon/.flair/models/sentiment-en-mix-distillbert_4.pt\n"
     ]
    },
    {
     "data": {
      "text/plain": [
       "[POSITIVE (0.9994)]"
      ]
     },
     "execution_count": 4,
     "metadata": {},
     "output_type": "execute_result"
    }
   ],
   "source": [
    "predict_sentiment(\"Flair Work Pretty Well on this\")"
   ]
  },
  {
   "cell_type": "code",
   "execution_count": null,
   "id": "eede8d0f",
   "metadata": {},
   "outputs": [],
   "source": []
  }
 ],
 "metadata": {
  "kernelspec": {
   "display_name": "Python 3 (ipykernel)",
   "language": "python",
   "name": "python3"
  },
  "language_info": {
   "codemirror_mode": {
    "name": "ipython",
    "version": 3
   },
   "file_extension": ".py",
   "mimetype": "text/x-python",
   "name": "python",
   "nbconvert_exporter": "python",
   "pygments_lexer": "ipython3",
   "version": "3.9.0"
  }
 },
 "nbformat": 4,
 "nbformat_minor": 5
}
